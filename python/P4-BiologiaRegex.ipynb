{
 "cells": [
  {
   "cell_type": "markdown",
   "id": "985e6f9b",
   "metadata": {},
   "source": [
    "# PRACTICA 4: Paula Belaza, Natalia De Castro, Aurea Álvarez y Sofia García\n",
    "\n",
    "### Resuelve los siguientes ejercicios"
   ]
  },
  {
   "cell_type": "markdown",
   "id": "28748e51",
   "metadata": {},
   "source": [
    "##### 1.- Abre el fichero dna.txt, guarda una lista del contenido del archivo. Devuelve su longitud y su primer caracter"
   ]
  },
  {
   "cell_type": "code",
   "execution_count": 8,
   "id": "88679bbc",
   "metadata": {},
   "outputs": [
    {
     "name": "stdout",
     "output_type": "stream",
     "text": [
      "Longitud del ADN: 123\n",
      "Primer carácter: A\n"
     ]
    }
   ],
   "source": [
    "lista_adn=list(\"ATCGATCGATCGATCGACTGACTAGTCATAGCTATGCATGTAGCTACTCGATCGATCGATCGATCGATCGATCGATCGATCGATCATGCTATCATCGATCGATATCGATGCATCGACTACTAT\")\n",
    "longitud=len(lista_adn)\n",
    "primer_caracter = lista_adn[0]\n",
    "\n",
    "print(\"Longitud del ADN:\", longitud)\n",
    "print(\"Primer carácter:\", primer_caracter)\n"
   ]
  },
  {
   "cell_type": "markdown",
   "id": "9b87396a",
   "metadata": {},
   "source": [
    "##### 2.- Crea dos archivos. Uno almacena los accession que empiezen por 'a' y el otro el resto"
   ]
  },
  {
   "cell_type": "code",
   "execution_count": 10,
   "id": "73957856",
   "metadata": {},
   "outputs": [],
   "source": [
    "accs = ['ab56', 'bh84', 'hv76', 'ay93', 'ap97', 'bd72']"
   ]
  },
  {
   "cell_type": "code",
   "execution_count": 21,
   "id": "8f62bc8f",
   "metadata": {},
   "outputs": [
    {
     "name": "stdout",
     "output_type": "stream",
     "text": [
      "ab56\n",
      "ay93\n",
      "ap97\n",
      "\n",
      "bh84\n",
      "hv76\n",
      "bd72\n",
      "\n"
     ]
    }
   ],
   "source": [
    "a_file = open(\"a_accs.txt\", \"w\") #la w significa write mode\n",
    "otros_file = open(\"otros_accs.txt\", \"w\")\n",
    "for acc in accs:\n",
    "    if acc[0] == 'a':\n",
    "        a_file.write(acc + \"\\n\")\n",
    "    else:\n",
    "        otros_file.write(acc + \"\\n\") #si empieza por a la escribimos en nuestra lista\n",
    "a_file.close()\n",
    "otros_file.close()\n",
    "\n",
    "print(open(\"a_accs.txt\").read())\n",
    "print(open(\"otros_accs.txt\").read())"
   ]
  },
  {
   "cell_type": "markdown",
   "id": "9cbb4adf",
   "metadata": {},
   "source": [
    "##### 3.- Imprime solamente los accessions de la lista anterior que empiecen por 'a' y no acaben con '6'. Pista: usa endswith() y startswidth()"
   ]
  },
  {
   "cell_type": "code",
   "execution_count": 22,
   "id": "b32ca419",
   "metadata": {},
   "outputs": [
    {
     "name": "stdout",
     "output_type": "stream",
     "text": [
      "ay93\n",
      "ap97\n"
     ]
    }
   ],
   "source": [
    "accs = ['ab56', 'bh84', 'hv76', 'ay93', 'ap97', 'bd72']\n",
    "\n",
    "for acc in accs:\n",
    "    if acc.startswith('a') and not acc.endswith('6'):\n",
    "        print(acc)"
   ]
  },
  {
   "cell_type": "markdown",
   "id": "42c397b0",
   "metadata": {},
   "source": [
    "##### 4.- Escribe una función que cuente el porcentaje de A de una secuencia"
   ]
  },
  {
   "cell_type": "code",
   "execution_count": 57,
   "id": "da633510",
   "metadata": {},
   "outputs": [],
   "source": [
    "def porcentaje_A(secuencia):\n",
    "    # Cuento cuántas 'A' hay\n",
    "    num_A = secuencia.count('A')\n",
    "    \n",
    "    # Calculo el porcentaje: (A / total) * 100\n",
    "    porcentaje = (num_A / len(secuencia)) * 100\n",
    "    return porcentaje"
   ]
  },
  {
   "cell_type": "code",
   "execution_count": 33,
   "id": "f6af92a8-f95f-44d5-b349-226462ed0344",
   "metadata": {},
   "outputs": [
    {
     "name": "stdout",
     "output_type": "stream",
     "text": [
      "50.0\n"
     ]
    }
   ],
   "source": [
    "# Ejemplo\n",
    "dna = \"ATCGAAAT\"\n",
    "print(porcentaje_A(dna))"
   ]
  },
  {
   "cell_type": "markdown",
   "id": "054b8f51",
   "metadata": {},
   "source": [
    "##### ¿Puedes hacer que devuelva dos decimales? ¿Y que lidie con mayúsculas y minúsculas?"
   ]
  },
  {
   "cell_type": "code",
   "execution_count": 36,
   "id": "dc1d5907",
   "metadata": {},
   "outputs": [],
   "source": [
    "def porcentaje_A(secuencia):\n",
    "    # Convierto toda la secuencia a mayúsculas\n",
    "    secuencia = secuencia.upper()\n",
    "    \n",
    "    # Cuento cuántas 'A' hay\n",
    "    num_A = secuencia.count('A')\n",
    "    \n",
    "    # Calculo el porcentaje\n",
    "    porcentaje = (num_A / len(secuencia)) * 100\n",
    "    \n",
    "    # Redondeo a 2 decimales\n",
    "    return round(porcentaje, 2)\n"
   ]
  },
  {
   "cell_type": "code",
   "execution_count": 38,
   "id": "2950996a-8a98-4403-bf18-0242320930a3",
   "metadata": {},
   "outputs": [
    {
     "name": "stdout",
     "output_type": "stream",
     "text": [
      "50.0\n",
      "50.0\n",
      "100.0\n",
      "0.0\n"
     ]
    }
   ],
   "source": [
    "# Ejemplos\n",
    "print(porcentaje_A(\"ATCGAAAT\"))\n",
    "print(porcentaje_A(\"atcgAAat\"))   \n",
    "print(porcentaje_A(\"aaaa\"))       \n",
    "print(porcentaje_A(\"tgcg\"))       "
   ]
  },
  {
   "cell_type": "markdown",
   "id": "36a03b5f",
   "metadata": {},
   "source": [
    "##### ¿Y que devuelva el número de decimales que yo quiero?"
   ]
  },
  {
   "cell_type": "code",
   "execution_count": 43,
   "id": "1ac51951",
   "metadata": {},
   "outputs": [],
   "source": [
    "def porcentaje_A(secuencia, decimales=2):\n",
    "    secuencia = secuencia.upper()           # Hacerlo mayúsculas\n",
    "    num_A = secuencia.count('A')            # Contar cuántas 'A'\n",
    "    porcentaje = (num_A / len(secuencia)) * 100\n",
    "    return round(porcentaje, decimales)     # Redondear al número de decimales pedido\n"
   ]
  },
  {
   "cell_type": "code",
   "execution_count": 44,
   "id": "65ffce99-1f4b-49ed-91b4-07131d663ba6",
   "metadata": {},
   "outputs": [
    {
     "name": "stdout",
     "output_type": "stream",
     "text": [
      "40.0\n",
      "50.0\n",
      "0.0\n"
     ]
    }
   ],
   "source": [
    "print(porcentaje_A(\"ATCGA\"))    \n",
    "print(porcentaje_A(\"aaatcg\"))    \n",
    "print(porcentaje_A(\"GGGCCC\"))    \n"
   ]
  },
  {
   "cell_type": "markdown",
   "id": "2c811d84",
   "metadata": {},
   "source": [
    "##### ¿Sabes poner un valor por defecto en un argumento?"
   ]
  },
  {
   "cell_type": "code",
   "execution_count": 50,
   "id": "60981086",
   "metadata": {},
   "outputs": [],
   "source": [
    "def porcentaje_A(secuencia, decimales=2): #decimales 2 significa que si no paso el número de decimales, usará por defecto 2\n",
    "    secuencia = secuencia.upper()\n",
    "    num_A = secuencia.count('A')\n",
    "    porcentaje = (num_A / len(secuencia)) * 100\n",
    "    return f\"{porcentaje:.{decimales}f}\""
   ]
  },
  {
   "cell_type": "code",
   "execution_count": 51,
   "id": "739c210e-ba7f-45a9-88e8-6fd8a7f0d2ce",
   "metadata": {},
   "outputs": [
    {
     "name": "stdout",
     "output_type": "stream",
     "text": [
      "40.00\n",
      "40.0000\n"
     ]
    }
   ],
   "source": [
    "print(porcentaje_A(\"ATCGA\"))   \n",
    "print(porcentaje_A(\"ATCGA\", 4))"
   ]
  },
  {
   "cell_type": "markdown",
   "id": "ab2c106c",
   "metadata": {},
   "source": [
    "##### ¿Qué pasa si no ponemos un argumento? ¿Sabrías hacer una función encapsulada?"
   ]
  },
  {
   "cell_type": "code",
   "execution_count": 54,
   "id": "b155dc1e",
   "metadata": {},
   "outputs": [
    {
     "name": "stdout",
     "output_type": "stream",
     "text": [
      "El porcentaje de A en la secuencia 'ATCGA' es 40.00%\n",
      "El porcentaje de A en la secuencia 'ATCGA' es 40.0000%\n",
      "Usando secuencia por defecto: ATCG. El porcentaje de A es 25.00%\n",
      "La secuencia está vacía.\n"
     ]
    }
   ],
   "source": [
    "def porcentaje_A(secuencia=None, decimales=2): #Calcula el porcentaje de 'A' en una secuencia de ADN y devuelve un mensaje. \n",
    "    # Secuencia: cadena con la secuencia de ADN. Si no se pasa, se usa una secuencia por defecto.\n",
    "    # Decimales: número de decimales a mostrar (por defecto 2)\n",
    "    # Nos da: \"El porcentaje de A es XX%\"\n",
    "    \n",
    "    # Si no se pasa secuencia, usamos una por defecto\n",
    "    if secuencia is None:\n",
    "        secuencia = \"ATCG\"  # valor por defecto\n",
    "        mensaje_default = True\n",
    "    else:\n",
    "        mensaje_default = False\n",
    "\n",
    "    # Convertimos a mayúsculas para ignorar mayúsculas/minúsculas\n",
    "    secuencia = secuencia.upper()\n",
    "    \n",
    "    # Validar que la secuencia no esté vacía\n",
    "    if len(secuencia) == 0:\n",
    "        return \"La secuencia está vacía.\"\n",
    "    \n",
    "    # Contar cuántas 'A' hay\n",
    "    num_A = secuencia.count('A')\n",
    "    \n",
    "    # Calcular el porcentaje\n",
    "    porcentaje = (num_A / len(secuencia)) * 100\n",
    "    \n",
    "    # Crear mensaje \n",
    "    if mensaje_default:\n",
    "        return f\"Usando secuencia por defecto: {secuencia}. El porcentaje de A es {porcentaje:.{decimales}f}%\"\n",
    "    else:\n",
    "        return f\"El porcentaje de A en la secuencia '{secuencia}' es {porcentaje:.{decimales}f}%\"\n",
    "\n",
    "\n",
    "# Ejemplos de uso\n",
    "print(porcentaje_A(\"ATCGA\"))       \n",
    "print(porcentaje_A(\"ATCGA\", 4))    \n",
    "print(porcentaje_A())              \n",
    "print(porcentaje_A(\"\"))            "
   ]
  },
  {
   "cell_type": "markdown",
   "id": "83af4b0f",
   "metadata": {},
   "source": [
    "##### Testea tu función original con assert"
   ]
  },
  {
   "cell_type": "code",
   "execution_count": 58,
   "id": "2bf31b44",
   "metadata": {},
   "outputs": [],
   "source": [
    "# Mi función es:\n",
    "def porcentaje_A(secuencia):\n",
    "    # Cuento cuántas 'A' hay\n",
    "    num_A = secuencia.count('A')\n",
    "    \n",
    "    # Calculo el porcentaje: (A / total) * 100\n",
    "    porcentaje = (num_A / len(secuencia)) * 100\n",
    "    return porcentaje"
   ]
  },
  {
   "cell_type": "code",
   "execution_count": 60,
   "id": "eaabea1e-6b20-4ce5-828c-fbf1972c10fd",
   "metadata": {},
   "outputs": [
    {
     "name": "stdout",
     "output_type": "stream",
     "text": [
      "Todos los tests pasaron\n"
     ]
    }
   ],
   "source": [
    "# Test 1: secuencia \"ATCGA\" → 2 A de 5 letras → 40.0\n",
    "assert porcentaje_A(\"ATCGA\") == 40.0\n",
    "\n",
    "# Test 2: secuencia \"AAAA\" → 4 A de 4 → 100.0\n",
    "assert porcentaje_A(\"AAAA\") == 100.0\n",
    "\n",
    "# Test 3: secuencia \"TGCG\" → 0 A de 4 → 0.0\n",
    "assert porcentaje_A(\"TGCG\") == 0.0\n",
    "\n",
    "# Test 4: secuencia con mayúsculas y minúsculas \"aTcGa\" → 1 A mayúscula → 20.0\n",
    "# Mi función original no maneja minúsculas\n",
    "# Para que pase el test, puedo convertir la secuencia a mayúsculas dentro del test:\n",
    "assert porcentaje_A(\"aTcGa\".upper()) == 40.0\n",
    "\n",
    "print(\"Todos los tests pasaron\")"
   ]
  },
  {
   "cell_type": "markdown",
   "id": "991abaa2",
   "metadata": {},
   "source": [
    "#### 5.- De la lista de accessions que se proporciona obtén lo siguiente:\n",
    "1. Los que tengan el número 5\n",
    "2. Los que tengan la letra 'd' o la 'e'\n",
    "3. Los que tengan las letras 'd' y 'e' en ese orden\n",
    "4. Los que tengan las letras 'd' y 'e' en ese orden con una letra cualquiera en medio\n",
    "5. Los que tengan ambas letras 'd' y 'e' en cualquier orden\n",
    "6. Los que empiezan por 'x' o por 'y'\n",
    "7. Los que empiezan por 'x' o 'y' y terminan por 'e'\n",
    "8. Los que tienen tres o más dígitos seguidos\n",
    "9. Los que terminan con 'd' seguidos de 'a' o 'r' o 'p'"
   ]
  },
  {
   "cell_type": "code",
   "execution_count": 26,
   "id": "6388ac75",
   "metadata": {},
   "outputs": [],
   "source": [
    "import re"
   ]
  },
  {
   "cell_type": "code",
   "execution_count": 27,
   "id": "d00d3ce7",
   "metadata": {},
   "outputs": [],
   "source": [
    "accs = ['xkn59438', 'yhdck2', 'eihd39d9', 'chdsye847', 'hedle3455', 'xjhd53e', '45da', 'de37dp']"
   ]
  },
  {
   "cell_type": "code",
   "execution_count": 62,
   "id": "0d16cf6e-e19c-4564-b844-ed0199a041fe",
   "metadata": {},
   "outputs": [
    {
     "name": "stdout",
     "output_type": "stream",
     "text": [
      "Tienen el número 5: ['xkn59438', 'hedle3455', 'xjhd53e', '45da']\n",
      "Tienen 'd' o 'e': ['yhdck2', 'eihd39d9', 'chdsye847', 'hedle3455', 'xjhd53e', '45da', 'de37dp']\n",
      "Tienen 'd' seguida de 'e': ['de37dp']\n",
      "'d' y 'e' con una letra en medio: ['hedle3455']\n",
      "Tiene\n"
     ]
    }
   ],
   "source": [
    "import re\n",
    "\n",
    "ccs = ['xkn59438', 'yhdck2', 'eihd39d9', 'chdsye847', 'hedle3455', 'xjhd53e', '45da', 'de37dp']\n",
    "\n",
    "# Los que tengan el número 5\n",
    "con_5 = [c for c in ccs if '5' in c]\n",
    "\n",
    "# Los que tengan la letra 'd' o la 'e'\n",
    "d_o_e = [c for c in ccs if 'd' in c or 'e' in c]\n",
    "\n",
    "# Los que tengan 'd' y 'e' en ese orden\n",
    "d_seguido_e = [c for c in ccs if 'de' in c]\n",
    "\n",
    "# Los que tengan 'd' y 'e' en ese orden con una letra cualquiera en medio\n",
    "d_letra_e = [c for c in ccs if re.search(r'd.e', c)]\n",
    "\n",
    "# Los que tengan ambas letras 'd' y 'e' en cualquier orden\n",
    "d_y_e_cualquier = [c for c in ccs if 'd' in c and 'e' in c]\n",
    "\n",
    "# Los que empiezan por 'x' o por 'y'\n",
    "empiezan_xy = [c for c in ccs if c.startswith('x') or c.startswith('y')]\n",
    "\n",
    "# Los que empiezan por 'x' o 'y' y terminan por 'e'\n",
    "empiezan_xy_terminan_e = [c for c in ccs if (c.startswith('x') or c.startswith('y')) and c.endswith('e')]\n",
    "\n",
    "# Los que tienen tres o más dígitos seguidos\n",
    "tres_digitos = [c for c in ccs if re.search(r'\\d{3,}', c)]\n",
    "\n",
    "# Los que terminan con 'd' seguido de 'a' o 'r' o 'p'\n",
    "terminan_darp = [c for c in ccs if re.search(r'd[arp]$', c)]\n",
    "\n",
    "#Ejemplos\n",
    "print(\"Tienen el número 5:\", con_5)\n",
    "print(\"Tienen 'd' o 'e':\", d_o_e)\n",
    "print(\"Tienen 'd' seguida de 'e':\", d_seguido_e)\n",
    "print(\"'d' y 'e' con una letra en medio:\", d_letra_e)\n",
    "print(\"Tiene\")"
   ]
  }
 ],
 "metadata": {
  "kernelspec": {
   "display_name": "Python 3 (ipykernel)",
   "language": "python",
   "name": "python3"
  },
  "language_info": {
   "codemirror_mode": {
    "name": "ipython",
    "version": 3
   },
   "file_extension": ".py",
   "mimetype": "text/x-python",
   "name": "python",
   "nbconvert_exporter": "python",
   "pygments_lexer": "ipython3",
   "version": "3.13.5"
  }
 },
 "nbformat": 4,
 "nbformat_minor": 5
}
