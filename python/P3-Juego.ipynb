{
 "cells": [
  {
   "cell_type": "markdown",
   "id": "e87fdfc4",
   "metadata": {},
   "source": [
    "# PRACTICA 3: Paula Belaza, Sofia Garcia, Aurea Álvarez y Natalia De Castro\n",
    "\n",
    "\n",
    "## JUEGO DE ADIVINANZAS\n",
    "\n",
    "#### Escribe un programa que coja un número entero del 1 al 100, y los jugadores tienen que tratar de adivinar el número.\n",
    "\n",
    "#### Las reglas son las siguientes:\n",
    "\n",
    "1. Si un jugador escoje un número menor que 1 o mayor que 100, el programa dice \"FUERA DE LÍMITES\"\n",
    "2. En el primer turno del jugador, si está en un rango de 10 del número dice \"¡CALIENTE!\". Si está fuera de ese rango dice \"¡FRIO!\"\n",
    "3. En todas las rondas siguientes, si el jugador se acerca más que la vez anterior, dice \"¡MAS CALIENTE!\". Si está más lejos que la anterior vez dice \"¡MAS FRIO!\"\n",
    "4. Cuando el jugador acierte el número, les dirá que han acertado y cuántos intentos les ha llevado\n",
    "\n",
    "\n",
    "\n"
   ]
  },
  {
   "cell_type": "markdown",
   "id": "1ea418c3",
   "metadata": {},
   "source": [
    "##### PISTAS\n",
    "1. Trata obtener un número aleatorio entre el 1 y el 100\n",
    "2. Haz una introducción de tu juego y explica las reglas\n",
    "3. Crea una lista que almacene los intentos. \n",
    "4. Haz un bucle que evalúe un número. Prueba que funcione primero. While podría ir bien\n",
    "5. Modifica ese bucle para que compare nuestro número con el intento. Si se acierta usa break, si no puedes usar continue y tienes que seguir preguntando al jugador por nuevos intentos"
   ]
  },
  {
   "cell_type": "code",
   "execution_count": 2,
   "id": "9d8095d9",
   "metadata": {},
   "outputs": [
    {
     "name": "stdout",
     "output_type": "stream",
     "text": [
      "🎯 Bienvenido al Juego de Adivinanzas 🎯\n",
      "He pensado un número secreto entre 1 y 100.\n",
      "Reglas:\n",
      "1. Si escoges un número fuera de 1–100 → 'FUERA DE LÍMITES'.\n",
      "2. En el primer intento: \n",
      "   - Si estás a 10 o menos del número secreto → '¡CALIENTE!'\n",
      "   - Si no → '¡FRÍO!'\n",
      "3. A partir del segundo intento: \n",
      "   - Si te acercas más que antes → '¡MÁS CALIENTE!'\n",
      "   - Si te alejas → '¡MÁS FRÍO!'\n",
      "4. Si aciertas → el juego termina y te dice en cuántos intentos lo lograste.\n",
      "------------------------------------------------------------\n"
     ]
    },
    {
     "name": "stdin",
     "output_type": "stream",
     "text": [
      "👉 Adivina el número (1–100):  54\n"
     ]
    },
    {
     "name": "stdout",
     "output_type": "stream",
     "text": [
      "❄️ ¡FRÍO!\n"
     ]
    },
    {
     "name": "stdin",
     "output_type": "stream",
     "text": [
      "👉 Adivina el número (1–100):  89\n"
     ]
    },
    {
     "name": "stdout",
     "output_type": "stream",
     "text": [
      "❄️ ¡MÁS FRÍO!\n"
     ]
    },
    {
     "name": "stdin",
     "output_type": "stream",
     "text": [
      "👉 Adivina el número (1–100):  34\n"
     ]
    },
    {
     "name": "stdout",
     "output_type": "stream",
     "text": [
      "❄️ ¡MÁS FRÍO!\n"
     ]
    },
    {
     "name": "stdin",
     "output_type": "stream",
     "text": [
      "👉 Adivina el número (1–100):  3\n"
     ]
    },
    {
     "name": "stdout",
     "output_type": "stream",
     "text": [
      "❄️ ¡MÁS FRÍO!\n"
     ]
    },
    {
     "name": "stdin",
     "output_type": "stream",
     "text": [
      "👉 Adivina el número (1–100):  60\n"
     ]
    },
    {
     "name": "stdout",
     "output_type": "stream",
     "text": [
      "🔥 ¡MÁS CALIENTE!\n"
     ]
    },
    {
     "name": "stdin",
     "output_type": "stream",
     "text": [
      "👉 Adivina el número (1–100):  65\n"
     ]
    },
    {
     "name": "stdout",
     "output_type": "stream",
     "text": [
      "🔥 ¡MÁS CALIENTE!\n"
     ]
    },
    {
     "name": "stdin",
     "output_type": "stream",
     "text": [
      "👉 Adivina el número (1–100):  74\n"
     ]
    },
    {
     "name": "stdout",
     "output_type": "stream",
     "text": [
      "❄️ ¡MÁS FRÍO!\n"
     ]
    },
    {
     "name": "stdin",
     "output_type": "stream",
     "text": [
      "👉 Adivina el número (1–100):  71\n"
     ]
    },
    {
     "name": "stdout",
     "output_type": "stream",
     "text": [
      "🔥 ¡MÁS CALIENTE!\n"
     ]
    },
    {
     "name": "stdin",
     "output_type": "stream",
     "text": [
      "👉 Adivina el número (1–100):  68\n"
     ]
    },
    {
     "name": "stdout",
     "output_type": "stream",
     "text": [
      "🎉 ¡Acertaste! El número era 68.\n",
      "Te ha llevado 9 intentos.\n"
     ]
    }
   ],
   "source": [
    "import random\n",
    "\n",
    "print(\"🎯 Bienvenido al Juego de Adivinanzas 🎯\")\n",
    "print(\"He pensado un número secreto entre 1 y 100.\")\n",
    "print(\"Reglas:\")\n",
    "print(\"1. Si escoges un número fuera de 1–100 → 'FUERA DE LÍMITES'.\")\n",
    "print(\"2. En el primer intento: \")\n",
    "print(\"   - Si estás a 10 o menos del número secreto → '¡CALIENTE!'\")\n",
    "print(\"   - Si no → '¡FRÍO!'\")\n",
    "print(\"3. A partir del segundo intento: \")\n",
    "print(\"   - Si te acercas más que antes → '¡MÁS CALIENTE!'\")\n",
    "print(\"   - Si te alejas → '¡MÁS FRÍO!'\")\n",
    "print(\"4. Si aciertas → el juego termina y te dice en cuántos intentos lo lograste.\")\n",
    "print(\"-\" * 60)\n",
    "\n",
    "# Genero el número secreto\n",
    "numero_secreto = random.randint(1, 100)\n",
    "\n",
    "# Lista de intentos\n",
    "intentos = []\n",
    "\n",
    "while True:\n",
    "    # Pedir número\n",
    "    try:\n",
    "        guess = int(input(\"👉 Adivina el número (1–100): \"))\n",
    "    except ValueError:\n",
    "        print(\"Por favor, escribe un número entero.\")\n",
    "        continue\n",
    "\n",
    "    # Validar límites\n",
    "    if guess < 1 or guess > 100:\n",
    "        print(\"❌ FUERA DE LÍMITES\")\n",
    "        continue\n",
    "\n",
    "    # Guardar el intento\n",
    "    intentos.append(guess)\n",
    "\n",
    "    # Comprobar si acierta\n",
    "    if guess == numero_secreto:\n",
    "        print(f\"🎉 ¡Acertaste! El número era {numero_secreto}.\")\n",
    "        print(f\"Te ha llevado {len(intentos)} intentos.\")\n",
    "        break\n",
    "    else:\n",
    "        # Primer intento\n",
    "        if len(intentos) == 1:\n",
    "            if abs(numero_secreto - guess) <= 10:\n",
    "                print(\"🔥 ¡CALIENTE!\")\n",
    "            else:\n",
    "                print(\"❄️ ¡FRÍO!\")\n",
    "        else:\n",
    "            # Comparar con el intento anterior\n",
    "            diferencia_actual = abs(numero_secreto - guess)\n",
    "            diferencia_anterior = abs(numero_secreto - intentos[-2])\n",
    "\n",
    "            if diferencia_actual < diferencia_anterior:\n",
    "                print(\"🔥 ¡MÁS CALIENTE!\")\n",
    "            else:\n",
    "                print(\"❄️ ¡MÁS FRÍO!\")\n"
   ]
  },
  {
   "cell_type": "code",
   "execution_count": null,
   "id": "815e44d2-b580-466d-8f0e-89452144b6d2",
   "metadata": {},
   "outputs": [],
   "source": []
  }
 ],
 "metadata": {
  "kernelspec": {
   "display_name": "Python 3 (ipykernel)",
   "language": "python",
   "name": "python3"
  },
  "language_info": {
   "codemirror_mode": {
    "name": "ipython",
    "version": 3
   },
   "file_extension": ".py",
   "mimetype": "text/x-python",
   "name": "python",
   "nbconvert_exporter": "python",
   "pygments_lexer": "ipython3",
   "version": "3.13.5"
  }
 },
 "nbformat": 4,
 "nbformat_minor": 5
}
